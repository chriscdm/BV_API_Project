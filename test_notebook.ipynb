{
 "cells": [
  {
   "cell_type": "markdown",
   "metadata": {},
   "source": [
    "(some tests after running the script in the virtual environtment or in the Docker Container I set up for this project)"
   ]
  },
  {
   "cell_type": "code",
   "execution_count": 3,
   "metadata": {
    "collapsed": true
   },
   "outputs": [],
   "source": [
    "import requests\n",
    "import webbrowser"
   ]
  },
  {
   "cell_type": "code",
   "execution_count": 42,
   "metadata": {},
   "outputs": [
    {
     "data": {
      "text/plain": [
       "True"
      ]
     },
     "execution_count": 42,
     "metadata": {},
     "output_type": "execute_result"
    }
   ],
   "source": [
    "webbrowser.open('http://127.0.0.1:5000')"
   ]
  },
  {
   "cell_type": "code",
   "execution_count": 35,
   "metadata": {},
   "outputs": [
    {
     "data": {
      "text/plain": [
       "True"
      ]
     },
     "execution_count": 35,
     "metadata": {},
     "output_type": "execute_result"
    }
   ],
   "source": [
    "webbrowser.open('http://localhost:5000')"
   ]
  },
  {
   "cell_type": "code",
   "execution_count": 98,
   "metadata": {
    "collapsed": true
   },
   "outputs": [],
   "source": [
    "response = requests.get('http://127.0.0.1:5000/error_test')"
   ]
  },
  {
   "cell_type": "code",
   "execution_count": 99,
   "metadata": {},
   "outputs": [
    {
     "data": {
      "text/plain": [
       "<Response [404]>"
      ]
     },
     "execution_count": 99,
     "metadata": {},
     "output_type": "execute_result"
    }
   ],
   "source": [
    "response"
   ]
  },
  {
   "cell_type": "code",
   "execution_count": 67,
   "metadata": {
    "collapsed": true
   },
   "outputs": [],
   "source": [
    "response = requests.get('http://127.0.0.1:5000/all_songs')"
   ]
  },
  {
   "cell_type": "code",
   "execution_count": 68,
   "metadata": {},
   "outputs": [
    {
     "data": {
      "text/plain": [
       "[{'artist': '424',\n",
       "  'duration_in_seconds': 189,\n",
       "  'genre_name': 'Indie Rock',\n",
       "  'title': 'Gala'},\n",
       " {'artist': 'Colornoise',\n",
       "  'duration_in_seconds': 246,\n",
       "  'genre_name': 'Noise Rock',\n",
       "  'title': 'Amalie'},\n",
       " {'artist': 'Los Waldners',\n",
       "  'duration_in_seconds': 165,\n",
       "  'genre_name': 'Latin Pop Rock',\n",
       "  'title': 'Horacio'},\n",
       " {'artist': 'Beatles',\n",
       "  'duration_in_seconds': 245,\n",
       "  'genre_name': 'Classic Rock',\n",
       "  'title': 'Strawberry Fields Forever'},\n",
       " {'artist': 'Chubby Checker',\n",
       "  'duration_in_seconds': 235,\n",
       "  'genre_name': 'Pop',\n",
       "  'title': 'The Twist'},\n",
       " {'artist': 'Santana',\n",
       "  'duration_in_seconds': 167,\n",
       "  'genre_name': 'Pop',\n",
       "  'title': 'Smooth'},\n",
       " {'artist': 'Bobby Darin',\n",
       "  'duration_in_seconds': 245,\n",
       "  'genre_name': 'Rock',\n",
       "  'title': 'Mack the Knife'},\n",
       " {'artist': 'LeAnn Rhimes',\n",
       "  'duration_in_seconds': 237,\n",
       "  'genre_name': 'Country',\n",
       "  'title': 'How Do I Live'},\n",
       " {'artist': 'LMFAO',\n",
       "  'duration_in_seconds': 189,\n",
       "  'genre_name': 'Rap',\n",
       "  'title': 'Party Rock Anthem'},\n",
       " {'artist': 'The Black Eyed Peas',\n",
       "  'duration_in_seconds': 219,\n",
       "  'genre_name': 'Rap',\n",
       "  'title': 'I Gotta Feeling'},\n",
       " {'artist': 'Los Del Rio',\n",
       "  'duration_in_seconds': 159,\n",
       "  'genre_name': 'Pop',\n",
       "  'title': 'Macarena'},\n",
       " {'artist': 'Olivia Newton-John',\n",
       "  'duration_in_seconds': 195,\n",
       "  'genre_name': 'Pop',\n",
       "  'title': 'Physical'},\n",
       " {'artist': 'Debby Boone',\n",
       "  'duration_in_seconds': 245,\n",
       "  'genre_name': 'Pop',\n",
       "  'title': 'You Light Up My Life'},\n",
       " {'artist': 'Beatles',\n",
       "  'duration_in_seconds': 162,\n",
       "  'genre_name': 'Classic Rock',\n",
       "  'title': 'Hey Jude'}]"
      ]
     },
     "execution_count": 68,
     "metadata": {},
     "output_type": "execute_result"
    }
   ],
   "source": [
    "response.json()"
   ]
  },
  {
   "cell_type": "code",
   "execution_count": 82,
   "metadata": {
    "collapsed": true
   },
   "outputs": [],
   "source": [
    "response = requests.get('http://127.0.0.1:5000/genres')"
   ]
  },
  {
   "cell_type": "code",
   "execution_count": 83,
   "metadata": {},
   "outputs": [
    {
     "data": {
      "text/plain": [
       "[{'aggregated_duration_in_seconds': 245,\n",
       "  'genre_count': 1,\n",
       "  'genre_id': 1,\n",
       "  'genre_name': 'Rock'},\n",
       " {'aggregated_duration_in_seconds': 237,\n",
       "  'genre_count': 1,\n",
       "  'genre_id': 2,\n",
       "  'genre_name': 'Country'},\n",
       " {'aggregated_duration_in_seconds': 408,\n",
       "  'genre_count': 2,\n",
       "  'genre_id': 3,\n",
       "  'genre_name': 'Rap'},\n",
       " {'aggregated_duration_in_seconds': None,\n",
       "  'genre_count': 0,\n",
       "  'genre_id': 4,\n",
       "  'genre_name': 'Classical'},\n",
       " {'aggregated_duration_in_seconds': 189,\n",
       "  'genre_count': 1,\n",
       "  'genre_id': 5,\n",
       "  'genre_name': 'Indie Rock'},\n",
       " {'aggregated_duration_in_seconds': 246,\n",
       "  'genre_count': 1,\n",
       "  'genre_id': 6,\n",
       "  'genre_name': 'Noise Rock'},\n",
       " {'aggregated_duration_in_seconds': 165,\n",
       "  'genre_count': 1,\n",
       "  'genre_id': 7,\n",
       "  'genre_name': 'Latin Pop Rock'},\n",
       " {'aggregated_duration_in_seconds': 407,\n",
       "  'genre_count': 2,\n",
       "  'genre_id': 8,\n",
       "  'genre_name': 'Classic Rock'},\n",
       " {'aggregated_duration_in_seconds': 1001,\n",
       "  'genre_count': 5,\n",
       "  'genre_id': 9,\n",
       "  'genre_name': 'Pop'}]"
      ]
     },
     "execution_count": 83,
     "metadata": {},
     "output_type": "execute_result"
    }
   ],
   "source": [
    "response.json()"
   ]
  },
  {
   "cell_type": "code",
   "execution_count": 67,
   "metadata": {
    "collapsed": true
   },
   "outputs": [],
   "source": [
    "response = requests.get('http://127.0.0.1:5000/songs?artist=Bobby+Darin')"
   ]
  },
  {
   "cell_type": "code",
   "execution_count": 61,
   "metadata": {},
   "outputs": [
    {
     "data": {
      "text/plain": [
       "[{'artist': 'Bobby Darin',\n",
       "  'duration_in_seconds': 245,\n",
       "  'genre_name': 'Rock',\n",
       "  'title': 'Mack the Knife'}]"
      ]
     },
     "execution_count": 61,
     "metadata": {},
     "output_type": "execute_result"
    }
   ],
   "source": [
    "response.json()"
   ]
  },
  {
   "cell_type": "code",
   "execution_count": 71,
   "metadata": {
    "collapsed": true
   },
   "outputs": [],
   "source": [
    "response = requests.get('http://127.0.0.1:5000/songs?artist=DARIN')"
   ]
  },
  {
   "cell_type": "code",
   "execution_count": 58,
   "metadata": {},
   "outputs": [
    {
     "data": {
      "text/plain": [
       "[{'artist': 'Bobby Darin',\n",
       "  'duration_in_seconds': 245,\n",
       "  'genre_name': 'Rock',\n",
       "  'title': 'Mack the Knife'}]"
      ]
     },
     "execution_count": 58,
     "metadata": {},
     "output_type": "execute_result"
    }
   ],
   "source": [
    "response.json()"
   ]
  },
  {
   "cell_type": "code",
   "execution_count": 17,
   "metadata": {
    "collapsed": true
   },
   "outputs": [],
   "source": [
    "response = requests.get('http://127.0.0.1:5000/songs?artist=Beatles&genre=Classic+Rock')"
   ]
  },
  {
   "cell_type": "code",
   "execution_count": 18,
   "metadata": {},
   "outputs": [
    {
     "data": {
      "text/plain": [
       "[{'artist': 'Beatles',\n",
       "  'duration(seconds)': 245,\n",
       "  'genre_name': 'Classic Rock',\n",
       "  'title': 'Strawberry Fields Forever'},\n",
       " {'artist': 'Beatles',\n",
       "  'duration(seconds)': 162,\n",
       "  'genre_name': 'Classic Rock',\n",
       "  'title': 'Hey Jude'}]"
      ]
     },
     "execution_count": 18,
     "metadata": {},
     "output_type": "execute_result"
    }
   ],
   "source": [
    "response.json()"
   ]
  },
  {
   "cell_type": "code",
   "execution_count": 206,
   "metadata": {
    "collapsed": true
   },
   "outputs": [],
   "source": [
    "response = requests.get('http://127.0.0.1:5000/songs?artist=beatles&genre=Classic+Rock')"
   ]
  },
  {
   "cell_type": "code",
   "execution_count": 207,
   "metadata": {},
   "outputs": [
    {
     "data": {
      "text/plain": [
       "[{'artist': 'Beatles',\n",
       "  'duration_in_seconds': 245,\n",
       "  'genre_name': 'Classic Rock',\n",
       "  'title': 'Strawberry Fields Forever'},\n",
       " {'artist': 'Beatles',\n",
       "  'duration_in_seconds': 162,\n",
       "  'genre_name': 'Classic Rock',\n",
       "  'title': 'Hey Jude'}]"
      ]
     },
     "execution_count": 207,
     "metadata": {},
     "output_type": "execute_result"
    }
   ],
   "source": [
    "response.json()"
   ]
  },
  {
   "cell_type": "code",
   "execution_count": 56,
   "metadata": {
    "collapsed": true
   },
   "outputs": [],
   "source": [
    "response = requests.get('http://127.0.0.1:5000/songs?min_length=194&max_length=196')"
   ]
  },
  {
   "cell_type": "code",
   "execution_count": 203,
   "metadata": {},
   "outputs": [
    {
     "data": {
      "text/plain": [
       "[{'artist': 'Olivia Newton-John',\n",
       "  'duration_in_seconds': 195,\n",
       "  'genre_name': 'Pop',\n",
       "  'title': 'Physical'}]"
      ]
     },
     "execution_count": 203,
     "metadata": {},
     "output_type": "execute_result"
    }
   ],
   "source": [
    "response.json()"
   ]
  },
  {
   "cell_type": "code",
   "execution_count": 50,
   "metadata": {
    "collapsed": true
   },
   "outputs": [],
   "source": [
    "response = requests.get('http://127.0.0.1:5000/songs?min_length=00:03:14&max_length=196')"
   ]
  },
  {
   "cell_type": "code",
   "execution_count": 51,
   "metadata": {},
   "outputs": [
    {
     "data": {
      "text/plain": [
       "[{'artist': 'Olivia Newton-John',\n",
       "  'duration_in_seconds': 195,\n",
       "  'genre_name': 'Pop',\n",
       "  'title': 'Physical'}]"
      ]
     },
     "execution_count": 51,
     "metadata": {},
     "output_type": "execute_result"
    }
   ],
   "source": [
    "response.json()"
   ]
  },
  {
   "cell_type": "code",
   "execution_count": 88,
   "metadata": {},
   "outputs": [],
   "source": [
    "response = requests.get('http://127.0.0.1:5000/songs?error_test')"
   ]
  },
  {
   "cell_type": "code",
   "execution_count": 89,
   "metadata": {},
   "outputs": [
    {
     "data": {
      "text/plain": [
       "{'Error': 'Incorrect Input!'}"
      ]
     },
     "execution_count": 89,
     "metadata": {},
     "output_type": "execute_result"
    }
   ],
   "source": [
    "response.json()"
   ]
  }
 ],
 "metadata": {
  "kernelspec": {
   "display_name": "Python [default]",
   "language": "python",
   "name": "python3"
  },
  "language_info": {
   "codemirror_mode": {
    "name": "ipython",
    "version": 3
   },
   "file_extension": ".py",
   "mimetype": "text/x-python",
   "name": "python",
   "nbconvert_exporter": "python",
   "pygments_lexer": "ipython3",
   "version": "3.6.4"
  }
 },
 "nbformat": 4,
 "nbformat_minor": 2
}
