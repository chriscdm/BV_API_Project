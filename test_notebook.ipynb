{
 "cells": [
  {
   "cell_type": "markdown",
   "metadata": {},
   "source": [
    "(some tests after running the script in the virtual environtment I set up for this project)"
   ]
  },
  {
   "cell_type": "code",
   "execution_count": 34,
   "metadata": {
    "collapsed": true
   },
   "outputs": [],
   "source": [
    "import requests\n",
    "import webbrowser\n"
   ]
  },
  {
   "cell_type": "code",
   "execution_count": 35,
   "metadata": {},
   "outputs": [
    {
     "data": {
      "text/plain": [
       "True"
      ]
     },
     "execution_count": 35,
     "metadata": {},
     "output_type": "execute_result"
    }
   ],
   "source": [
    "webbrowser.open('http://127.0.0.1:5000')"
   ]
  },
  {
   "cell_type": "code",
   "execution_count": 195,
   "metadata": {
    "collapsed": true
   },
   "outputs": [],
   "source": [
    "response = requests.get('http://127.0.0.1:5000/all_songs')"
   ]
  },
  {
   "cell_type": "code",
   "execution_count": 197,
   "metadata": {
    "collapsed": true
   },
   "outputs": [
    {
     "data": {
      "text/plain": [
       "[{'artist': '424', 'duration': 189, 'name': 'Indie Rock', 'title': 'Gala'},\n",
       " {'artist': 'Colornoise',\n",
       "  'duration': 246,\n",
       "  'name': 'Noise Rock',\n",
       "  'title': 'Amalie'},\n",
       " {'artist': 'Los Waldners',\n",
       "  'duration': 165,\n",
       "  'name': 'Latin Pop Rock',\n",
       "  'title': 'Horacio'},\n",
       " {'artist': 'Beatles',\n",
       "  'duration': 245,\n",
       "  'name': 'Classic Rock',\n",
       "  'title': 'Strawberry Fields Forever'},\n",
       " {'artist': 'Chubby Checker',\n",
       "  'duration': 235,\n",
       "  'name': 'Pop',\n",
       "  'title': 'The Twist'},\n",
       " {'artist': 'Santana', 'duration': 167, 'name': 'Pop', 'title': 'Smooth'},\n",
       " {'artist': 'Bobby Darin',\n",
       "  'duration': 245,\n",
       "  'name': 'Rock',\n",
       "  'title': 'Mack the Knife'},\n",
       " {'artist': 'LeAnn Rhimes',\n",
       "  'duration': 237,\n",
       "  'name': 'Country',\n",
       "  'title': 'How Do I Live'},\n",
       " {'artist': 'LMFAO',\n",
       "  'duration': 189,\n",
       "  'name': 'Rap',\n",
       "  'title': 'Party Rock Anthem'},\n",
       " {'artist': 'The Black Eyed Peas',\n",
       "  'duration': 219,\n",
       "  'name': 'Rap',\n",
       "  'title': 'I Gotta Feeling'},\n",
       " {'artist': 'Los Del Rio',\n",
       "  'duration': 159,\n",
       "  'name': 'Pop',\n",
       "  'title': 'Macarena'},\n",
       " {'artist': 'Olivia Newton-John',\n",
       "  'duration': 195,\n",
       "  'name': 'Pop',\n",
       "  'title': 'Physical'},\n",
       " {'artist': 'Debby Boone',\n",
       "  'duration': 245,\n",
       "  'name': 'Pop',\n",
       "  'title': 'You Light Up My Life'},\n",
       " {'artist': 'Beatles',\n",
       "  'duration': 162,\n",
       "  'name': 'Classic Rock',\n",
       "  'title': 'Hey Jude'}]"
      ]
     },
     "execution_count": 197,
     "metadata": {},
     "output_type": "execute_result"
    }
   ],
   "source": [
    "response.json()"
   ]
  },
  {
   "cell_type": "code",
   "execution_count": 57,
   "metadata": {},
   "outputs": [],
   "source": [
    "response = requests.get('http://127.0.0.1:5000/songs?artist=Beatles&genre=Classic+Rock')"
   ]
  },
  {
   "cell_type": "code",
   "execution_count": 58,
   "metadata": {},
   "outputs": [
    {
     "data": {
      "text/plain": [
       "[{'artist': 'Beatles',\n",
       "  'duration': 245,\n",
       "  'name': 'Classic Rock',\n",
       "  'title': 'Strawberry Fields Forever'},\n",
       " {'artist': 'Beatles',\n",
       "  'duration': 162,\n",
       "  'name': 'Classic Rock',\n",
       "  'title': 'Hey Jude'}]"
      ]
     },
     "execution_count": 58,
     "metadata": {},
     "output_type": "execute_result"
    }
   ],
   "source": [
    "response.json()"
   ]
  },
  {
   "cell_type": "code",
   "execution_count": 155,
   "metadata": {
    "collapsed": true
   },
   "outputs": [],
   "source": [
    "response = requests.get('http://127.0.0.1:5000/songs?min_length=194&max_length=196')"
   ]
  },
  {
   "cell_type": "code",
   "execution_count": 156,
   "metadata": {},
   "outputs": [
    {
     "data": {
      "text/plain": [
       "[{'artist': 'Olivia Newton-John',\n",
       "  'duration': 195,\n",
       "  'name': 'Pop',\n",
       "  'title': 'Physical'}]"
      ]
     },
     "execution_count": 156,
     "metadata": {},
     "output_type": "execute_result"
    }
   ],
   "source": [
    "response.json()"
   ]
  },
  {
   "cell_type": "code",
   "execution_count": 187,
   "metadata": {
    "collapsed": true
   },
   "outputs": [],
   "source": [
    "response = requests.get('http://127.0.0.1:5000/songs?min_length=00:03:14&max_length=196')"
   ]
  },
  {
   "cell_type": "code",
   "execution_count": 188,
   "metadata": {},
   "outputs": [
    {
     "data": {
      "text/plain": [
       "[{'artist': 'Olivia Newton-John',\n",
       "  'duration': 195,\n",
       "  'name': 'Pop',\n",
       "  'title': 'Physical'}]"
      ]
     },
     "execution_count": 188,
     "metadata": {},
     "output_type": "execute_result"
    }
   ],
   "source": [
    "response.json()"
   ]
  },
  {
   "cell_type": "code",
   "execution_count": 230,
   "metadata": {},
   "outputs": [],
   "source": [
    "response = requests.get('http://127.0.0.1:5000/genres')"
   ]
  },
  {
   "cell_type": "code",
   "execution_count": 231,
   "metadata": {},
   "outputs": [
    {
     "data": {
      "text/plain": [
       "[{'aggregated_duration(seconds)': 1001,\n",
       "  'genre_count': 5,\n",
       "  'genre_id': 9,\n",
       "  'genre_name': 'Pop'},\n",
       " {'aggregated_duration(seconds)': 407,\n",
       "  'genre_count': 2,\n",
       "  'genre_id': 8,\n",
       "  'genre_name': 'Classic Rock'},\n",
       " {'aggregated_duration(seconds)': 408,\n",
       "  'genre_count': 2,\n",
       "  'genre_id': 3,\n",
       "  'genre_name': 'Rap'},\n",
       " {'aggregated_duration(seconds)': 237,\n",
       "  'genre_count': 1,\n",
       "  'genre_id': 2,\n",
       "  'genre_name': 'Country'},\n",
       " {'aggregated_duration(seconds)': 189,\n",
       "  'genre_count': 1,\n",
       "  'genre_id': 5,\n",
       "  'genre_name': 'Indie Rock'},\n",
       " {'aggregated_duration(seconds)': 165,\n",
       "  'genre_count': 1,\n",
       "  'genre_id': 7,\n",
       "  'genre_name': 'Latin Pop Rock'},\n",
       " {'aggregated_duration(seconds)': 246,\n",
       "  'genre_count': 1,\n",
       "  'genre_id': 6,\n",
       "  'genre_name': 'Noise Rock'},\n",
       " {'aggregated_duration(seconds)': 245,\n",
       "  'genre_count': 1,\n",
       "  'genre_id': 1,\n",
       "  'genre_name': 'Rock'}]"
      ]
     },
     "execution_count": 231,
     "metadata": {},
     "output_type": "execute_result"
    }
   ],
   "source": [
    "response.json()"
   ]
  },
  {
   "cell_type": "code",
   "execution_count": 211,
   "metadata": {},
   "outputs": [
    {
     "name": "stdout",
     "output_type": "stream",
     "text": [
      "9\n",
      "8\n",
      "3\n",
      "2\n",
      "5\n",
      "7\n",
      "6\n",
      "1\n"
     ]
    }
   ],
   "source": [
    "for i in response.json():\n",
    "    print(i['genre'])"
   ]
  },
  {
   "cell_type": "code",
   "execution_count": 224,
   "metadata": {
    "collapsed": true
   },
   "outputs": [],
   "source": [
    "ft = response.json()"
   ]
  },
  {
   "cell_type": "code",
   "execution_count": 225,
   "metadata": {},
   "outputs": [
    {
     "data": {
      "text/plain": [
       "[{'count(*)': 5, 'genre': 9, 'name': 'Pop', 'sum(duration)': 1001},\n",
       " {'count(*)': 2, 'genre': 8, 'name': 'Classic Rock', 'sum(duration)': 407},\n",
       " {'count(*)': 2, 'genre': 3, 'name': 'Rap', 'sum(duration)': 408},\n",
       " {'count(*)': 1, 'genre': 2, 'name': 'Country', 'sum(duration)': 237},\n",
       " {'count(*)': 1, 'genre': 5, 'name': 'Indie Rock', 'sum(duration)': 189},\n",
       " {'count(*)': 1, 'genre': 7, 'name': 'Latin Pop Rock', 'sum(duration)': 165},\n",
       " {'count(*)': 1, 'genre': 6, 'name': 'Noise Rock', 'sum(duration)': 246},\n",
       " {'count(*)': 1, 'genre': 1, 'name': 'Rock', 'sum(duration)': 245}]"
      ]
     },
     "execution_count": 225,
     "metadata": {},
     "output_type": "execute_result"
    }
   ],
   "source": [
    "ft"
   ]
  },
  {
   "cell_type": "code",
   "execution_count": 226,
   "metadata": {},
   "outputs": [],
   "source": [
    "for x in ft:\n",
    "        x['genre_count'] = x.pop('count(*)')\n",
    "        x['genre_id'] = x.pop('genre')\n",
    "        x['genre_name'] = x.pop('name')\n",
    "        x['aggregated_duration(seconds)'] = x.pop('sum(duration)')"
   ]
  },
  {
   "cell_type": "code",
   "execution_count": 227,
   "metadata": {},
   "outputs": [
    {
     "data": {
      "text/plain": [
       "[{'aggregated_duration(seconds)': 1001,\n",
       "  'genre_count': 5,\n",
       "  'genre_id': 9,\n",
       "  'genre_name': 'Pop'},\n",
       " {'aggregated_duration(seconds)': 407,\n",
       "  'genre_count': 2,\n",
       "  'genre_id': 8,\n",
       "  'genre_name': 'Classic Rock'},\n",
       " {'aggregated_duration(seconds)': 408,\n",
       "  'genre_count': 2,\n",
       "  'genre_id': 3,\n",
       "  'genre_name': 'Rap'},\n",
       " {'aggregated_duration(seconds)': 237,\n",
       "  'genre_count': 1,\n",
       "  'genre_id': 2,\n",
       "  'genre_name': 'Country'},\n",
       " {'aggregated_duration(seconds)': 189,\n",
       "  'genre_count': 1,\n",
       "  'genre_id': 5,\n",
       "  'genre_name': 'Indie Rock'},\n",
       " {'aggregated_duration(seconds)': 165,\n",
       "  'genre_count': 1,\n",
       "  'genre_id': 7,\n",
       "  'genre_name': 'Latin Pop Rock'},\n",
       " {'aggregated_duration(seconds)': 246,\n",
       "  'genre_count': 1,\n",
       "  'genre_id': 6,\n",
       "  'genre_name': 'Noise Rock'},\n",
       " {'aggregated_duration(seconds)': 245,\n",
       "  'genre_count': 1,\n",
       "  'genre_id': 1,\n",
       "  'genre_name': 'Rock'}]"
      ]
     },
     "execution_count": 227,
     "metadata": {},
     "output_type": "execute_result"
    }
   ],
   "source": [
    "ft"
   ]
  },
  {
   "cell_type": "code",
   "execution_count": 213,
   "metadata": {},
   "outputs": [
    {
     "data": {
      "text/plain": [
       "[{'count(*)': 5, 'genre': 9, 'name': 'Pop', 'sum(duration)': 1001},\n",
       " {'count(*)': 2, 'genre': 8, 'name': 'Classic Rock', 'sum(duration)': 407},\n",
       " {'count(*)': 2, 'genre': 3, 'name': 'Rap', 'sum(duration)': 408},\n",
       " {'count(*)': 1, 'genre': 2, 'name': 'Country', 'sum(duration)': 237},\n",
       " {'count(*)': 1, 'genre': 5, 'name': 'Indie Rock', 'sum(duration)': 189},\n",
       " {'count(*)': 1, 'genre': 7, 'name': 'Latin Pop Rock', 'sum(duration)': 165},\n",
       " {'count(*)': 1, 'genre': 6, 'name': 'Noise Rock', 'sum(duration)': 246},\n",
       " {'count(*)': 1, 'genre': 1, 'name': 'Rock', 'sum(duration)': 245}]"
      ]
     },
     "execution_count": 213,
     "metadata": {},
     "output_type": "execute_result"
    }
   ],
   "source": [
    "response.json()"
   ]
  },
  {
   "cell_type": "code",
   "execution_count": 146,
   "metadata": {
    "collapsed": true
   },
   "outputs": [],
   "source": [
    "g = '0:1:30'"
   ]
  },
  {
   "cell_type": "code",
   "execution_count": 140,
   "metadata": {
    "collapsed": true
   },
   "outputs": [],
   "source": [
    "x = '6.7'"
   ]
  },
  {
   "cell_type": "code",
   "execution_count": 141,
   "metadata": {},
   "outputs": [
    {
     "name": "stdout",
     "output_type": "stream",
     "text": [
      "90.0\n",
      "6\n"
     ]
    }
   ],
   "source": [
    "try:\n",
    "    if (type(int(g)) == int) == True or (type(int(g)) == float) == True:\n",
    "        pass\n",
    "except:\n",
    "    if len(g.split(':')) >= 2 and len(g.split(':')) <= 3:\n",
    "        g = convert_time(g)\n",
    "    else:\n",
    "        pass\n",
    "\n",
    "print(g)\n",
    "print(x)"
   ]
  },
  {
   "cell_type": "code",
   "execution_count": null,
   "metadata": {
    "collapsed": true
   },
   "outputs": [],
   "source": [
    "donkey:chili\n",
    "01:30"
   ]
  },
  {
   "cell_type": "code",
   "execution_count": 170,
   "metadata": {
    "collapsed": true
   },
   "outputs": [],
   "source": [
    "h = '6'"
   ]
  },
  {
   "cell_type": "code",
   "execution_count": 174,
   "metadata": {
    "collapsed": true
   },
   "outputs": [],
   "source": [
    "h = '01:30'"
   ]
  },
  {
   "cell_type": "code",
   "execution_count": 175,
   "metadata": {},
   "outputs": [
    {
     "ename": "ValueError",
     "evalue": "invalid literal for int() with base 10: '01:30'",
     "output_type": "error",
     "traceback": [
      "\u001b[0;31m---------------------------------------------------------------------------\u001b[0m",
      "\u001b[0;31mValueError\u001b[0m                                Traceback (most recent call last)",
      "\u001b[0;32m<ipython-input-175-d62694e19a25>\u001b[0m in \u001b[0;36m<module>\u001b[0;34m()\u001b[0m\n\u001b[0;32m----> 1\u001b[0;31m \u001b[0;32massert\u001b[0m \u001b[0mtype\u001b[0m\u001b[0;34m(\u001b[0m\u001b[0mint\u001b[0m\u001b[0;34m(\u001b[0m\u001b[0mh\u001b[0m\u001b[0;34m)\u001b[0m\u001b[0;34m)\u001b[0m \u001b[0;34m==\u001b[0m \u001b[0mint\u001b[0m \u001b[0;32mor\u001b[0m \u001b[0mfloat\u001b[0m\u001b[0;34m\u001b[0m\u001b[0m\n\u001b[0m",
      "\u001b[0;31mValueError\u001b[0m: invalid literal for int() with base 10: '01:30'"
     ]
    }
   ],
   "source": [
    "assert type(int(h)) == int or float"
   ]
  },
  {
   "cell_type": "code",
   "execution_count": null,
   "metadata": {
    "collapsed": true
   },
   "outputs": [],
   "source": []
  },
  {
   "cell_type": "code",
   "execution_count": 148,
   "metadata": {},
   "outputs": [
    {
     "name": "stdout",
     "output_type": "stream",
     "text": [
      "chili\n"
     ]
    }
   ],
   "source": [
    "if len(g.split(':')) >= 2 and len(g.split(':')) <= 3:\n",
    "    print('chili')"
   ]
  },
  {
   "cell_type": "code",
   "execution_count": 128,
   "metadata": {
    "collapsed": true
   },
   "outputs": [],
   "source": [
    "def convert_time(i):\n",
    "        units = i.split(':')\n",
    "        units = [float(i) for i in units]\n",
    "\n",
    "        if len(units) == 2:\n",
    "            seconds = (units[0] * 60) + units[1]\n",
    "        if len(units) == 3:\n",
    "            seconds = (units[0] * 3600) + (units[1] * 60) + units[2]\n",
    "        \n",
    "        return seconds"
   ]
  },
  {
   "cell_type": "code",
   "execution_count": 126,
   "metadata": {},
   "outputs": [
    {
     "data": {
      "text/plain": [
       "1.5"
      ]
     },
     "execution_count": 126,
     "metadata": {},
     "output_type": "execute_result"
    }
   ],
   "source": [
    "convert_time(g)"
   ]
  },
  {
   "cell_type": "code",
   "execution_count": null,
   "metadata": {
    "collapsed": true
   },
   "outputs": [],
   "source": [
    "def convert_time(i):\n",
    "    units = i.split(':')\n",
    "    units = [float(i) for i in units]\n",
    "    \n",
    "    if len(units) == 2:\n",
    "        seconds = (units[0] * 60) + units[1]\n",
    "    if len(units) == 3:\n",
    "        seconds = (units[0] * 3600) + (units[1] * 60) + units[2]\n",
    "    minutes = seconds / 60\n",
    "    \n",
    "    return minutes"
   ]
  },
  {
   "cell_type": "code",
   "execution_count": 77,
   "metadata": {
    "collapsed": true
   },
   "outputs": [],
   "source": [
    "g = 'g'"
   ]
  },
  {
   "cell_type": "code",
   "execution_count": 184,
   "metadata": {},
   "outputs": [],
   "source": [
    "response = requests.get('https://api.opendota.com/api/proMatches?less_than_match_id=123')"
   ]
  },
  {
   "cell_type": "code",
   "execution_count": null,
   "metadata": {
    "collapsed": true
   },
   "outputs": [],
   "source": []
  }
 ],
 "metadata": {
  "kernelspec": {
   "display_name": "Python [default]",
   "language": "python",
   "name": "python3"
  },
  "language_info": {
   "codemirror_mode": {
    "name": "ipython",
    "version": 3
   },
   "file_extension": ".py",
   "mimetype": "text/x-python",
   "name": "python",
   "nbconvert_exporter": "python",
   "pygments_lexer": "ipython3",
   "version": "3.6.4"
  }
 },
 "nbformat": 4,
 "nbformat_minor": 2
}
