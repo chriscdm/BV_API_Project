{
 "cells": [
  {
   "cell_type": "code",
   "execution_count": 5,
   "metadata": {},
   "outputs": [],
   "source": [
    "import requests\n",
    "import webbrowser\n"
   ]
  },
  {
   "cell_type": "code",
   "execution_count": 6,
   "metadata": {},
   "outputs": [
    {
     "data": {
      "text/plain": [
       "True"
      ]
     },
     "execution_count": 6,
     "metadata": {},
     "output_type": "execute_result"
    }
   ],
   "source": [
    "webbrowser.open('http://127.0.0.1:5000')"
   ]
  },
  {
   "cell_type": "code",
   "execution_count": 7,
   "metadata": {
    "collapsed": true
   },
   "outputs": [],
   "source": [
    "response = requests.get('http://127.0.0.1:5000/all_songs')"
   ]
  },
  {
   "cell_type": "code",
   "execution_count": 12,
   "metadata": {},
   "outputs": [
    {
     "data": {
      "text/plain": [
       "[['424', 'Gala', 5, 189],\n",
       " ['Colornoise', 'Amalie', 6, 246],\n",
       " ['Los Waldners', 'Horacio', 7, 165],\n",
       " ['Beatles', 'Strawberry Fields Forever', 8, 245],\n",
       " ['Chubby Checker', 'The Twist', 9, 235],\n",
       " ['Santana', 'Smooth', 9, 167],\n",
       " ['Bobby Darin', 'Mack the Knife', 1, 245],\n",
       " ['LeAnn Rhimes', 'How Do I Live', 2, 237],\n",
       " ['LMFAO', 'Party Rock Anthem', 3, 189],\n",
       " ['The Black Eyed Peas', 'I Gotta Feeling', 3, 219],\n",
       " ['Los Del Rio', 'Macarena', 9, 159],\n",
       " ['Olivia Newton-John', 'Physical', 9, 195],\n",
       " ['Debby Boone', 'You Light Up My Life', 9, 245],\n",
       " ['Beatles', 'Hey Jude', 8, 162]]"
      ]
     },
     "execution_count": 12,
     "metadata": {},
     "output_type": "execute_result"
    }
   ],
   "source": [
    "response.json()"
   ]
  }
 ],
 "metadata": {
  "kernelspec": {
   "display_name": "Python [default]",
   "language": "python",
   "name": "python3"
  },
  "language_info": {
   "codemirror_mode": {
    "name": "ipython",
    "version": 3
   },
   "file_extension": ".py",
   "mimetype": "text/x-python",
   "name": "python",
   "nbconvert_exporter": "python",
   "pygments_lexer": "ipython3",
   "version": "3.6.4"
  }
 },
 "nbformat": 4,
 "nbformat_minor": 2
}
