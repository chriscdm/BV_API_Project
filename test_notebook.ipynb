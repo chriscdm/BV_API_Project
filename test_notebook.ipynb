{
 "cells": [
  {
   "cell_type": "markdown",
   "metadata": {},
   "source": [
    "(some tests after running the script in the virtual environtment I set up for this project)"
   ]
  },
  {
   "cell_type": "code",
   "execution_count": 34,
   "metadata": {
    "collapsed": true
   },
   "outputs": [],
   "source": [
    "import requests\n",
    "import webbrowser\n"
   ]
  },
  {
   "cell_type": "code",
   "execution_count": 35,
   "metadata": {},
   "outputs": [
    {
     "data": {
      "text/plain": [
       "True"
      ]
     },
     "execution_count": 35,
     "metadata": {},
     "output_type": "execute_result"
    }
   ],
   "source": [
    "webbrowser.open('http://127.0.0.1:5000')"
   ]
  },
  {
   "cell_type": "code",
   "execution_count": 36,
   "metadata": {
    "collapsed": true
   },
   "outputs": [],
   "source": [
    "response = requests.get('http://127.0.0.1:5000/all_songs')"
   ]
  },
  {
   "cell_type": "code",
   "execution_count": 37,
   "metadata": {},
   "outputs": [
    {
     "data": {
      "text/plain": [
       "[{'artist': '424', 'duration': 189, 'name': 'Indie Rock', 'title': 'Gala'},\n",
       " {'artist': 'Colornoise',\n",
       "  'duration': 246,\n",
       "  'name': 'Noise Rock',\n",
       "  'title': 'Amalie'},\n",
       " {'artist': 'Los Waldners',\n",
       "  'duration': 165,\n",
       "  'name': 'Latin Pop Rock',\n",
       "  'title': 'Horacio'},\n",
       " {'artist': 'Beatles',\n",
       "  'duration': 245,\n",
       "  'name': 'Classic Rock',\n",
       "  'title': 'Strawberry Fields Forever'},\n",
       " {'artist': 'Chubby Checker',\n",
       "  'duration': 235,\n",
       "  'name': 'Pop',\n",
       "  'title': 'The Twist'},\n",
       " {'artist': 'Santana', 'duration': 167, 'name': 'Pop', 'title': 'Smooth'},\n",
       " {'artist': 'Bobby Darin',\n",
       "  'duration': 245,\n",
       "  'name': 'Rock',\n",
       "  'title': 'Mack the Knife'},\n",
       " {'artist': 'LeAnn Rhimes',\n",
       "  'duration': 237,\n",
       "  'name': 'Country',\n",
       "  'title': 'How Do I Live'},\n",
       " {'artist': 'LMFAO',\n",
       "  'duration': 189,\n",
       "  'name': 'Rap',\n",
       "  'title': 'Party Rock Anthem'},\n",
       " {'artist': 'The Black Eyed Peas',\n",
       "  'duration': 219,\n",
       "  'name': 'Rap',\n",
       "  'title': 'I Gotta Feeling'},\n",
       " {'artist': 'Los Del Rio',\n",
       "  'duration': 159,\n",
       "  'name': 'Pop',\n",
       "  'title': 'Macarena'},\n",
       " {'artist': 'Olivia Newton-John',\n",
       "  'duration': 195,\n",
       "  'name': 'Pop',\n",
       "  'title': 'Physical'},\n",
       " {'artist': 'Debby Boone',\n",
       "  'duration': 245,\n",
       "  'name': 'Pop',\n",
       "  'title': 'You Light Up My Life'},\n",
       " {'artist': 'Beatles',\n",
       "  'duration': 162,\n",
       "  'name': 'Classic Rock',\n",
       "  'title': 'Hey Jude'}]"
      ]
     },
     "execution_count": 37,
     "metadata": {},
     "output_type": "execute_result"
    }
   ],
   "source": [
    "response.json()"
   ]
  },
  {
   "cell_type": "code",
   "execution_count": 57,
   "metadata": {},
   "outputs": [],
   "source": [
    "response = requests.get('http://127.0.0.1:5000/songs?artist=Beatles&genre=Classic+Rock')"
   ]
  },
  {
   "cell_type": "code",
   "execution_count": 58,
   "metadata": {},
   "outputs": [
    {
     "data": {
      "text/plain": [
       "[{'artist': 'Beatles',\n",
       "  'duration': 245,\n",
       "  'name': 'Classic Rock',\n",
       "  'title': 'Strawberry Fields Forever'},\n",
       " {'artist': 'Beatles',\n",
       "  'duration': 162,\n",
       "  'name': 'Classic Rock',\n",
       "  'title': 'Hey Jude'}]"
      ]
     },
     "execution_count": 58,
     "metadata": {},
     "output_type": "execute_result"
    }
   ],
   "source": [
    "response.json()"
   ]
  },
  {
   "cell_type": "code",
   "execution_count": null,
   "metadata": {
    "collapsed": true
   },
   "outputs": [],
   "source": []
  }
 ],
 "metadata": {
  "kernelspec": {
   "display_name": "Python [default]",
   "language": "python",
   "name": "python3"
  },
  "language_info": {
   "codemirror_mode": {
    "name": "ipython",
    "version": 3
   },
   "file_extension": ".py",
   "mimetype": "text/x-python",
   "name": "python",
   "nbconvert_exporter": "python",
   "pygments_lexer": "ipython3",
   "version": "3.6.4"
  }
 },
 "nbformat": 4,
 "nbformat_minor": 2
}
